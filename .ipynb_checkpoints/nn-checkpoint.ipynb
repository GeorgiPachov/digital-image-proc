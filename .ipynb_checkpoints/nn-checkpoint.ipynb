{
 "cells": [
  {
   "cell_type": "markdown",
   "id": "9ed210cf-5d3c-4966-8ffb-f4bf158b0bfc",
   "metadata": {
    "tags": []
   },
   "source": [
    "#### Setup"
   ]
  },
  {
   "cell_type": "code",
   "execution_count": 3,
   "id": "1df42e09-f1b7-49bb-82c4-847193707333",
   "metadata": {},
   "outputs": [
    {
     "name": "stdout",
     "output_type": "stream",
     "text": [
      "Collecting wand\n",
      "  Downloading Wand-0.6.10-py2.py3-none-any.whl (142 kB)\n",
      "\u001b[2K     \u001b[38;2;114;156;31m━━━━━━━━━━━━━━━━━━━━━━━━━━━━━━━━━━━━━━━\u001b[0m \u001b[32m142.8/142.8 kB\u001b[0m \u001b[31m3.2 MB/s\u001b[0m eta \u001b[36m0:00:00\u001b[0m MB/s\u001b[0m eta \u001b[36m0:00:01\u001b[0m\n",
      "\u001b[?25hInstalling collected packages: wand\n",
      "Successfully installed wand-0.6.10\n"
     ]
    }
   ],
   "source": [
    "! pip install wand"
   ]
  },
  {
   "cell_type": "code",
   "execution_count": 3,
   "id": "c42a71dd-f260-465e-8709-4a5ac7b839e2",
   "metadata": {},
   "outputs": [
    {
     "name": "stdout",
     "output_type": "stream",
     "text": [
      "Uninstalling /opt/homebrew/Cellar/imagemagick/7.1.0-51... (805 files, 30.8MB)\n",
      "\u001b[34m==>\u001b[0m \u001b[1mDownloading https://ghcr.io/v2/homebrew/core/imagemagick/6/manifests/6.9.12-\u001b[0m\n",
      "######################################################################## 100.0%\n",
      "\u001b[34m==>\u001b[0m \u001b[1mDownloading https://ghcr.io/v2/homebrew/core/imagemagick/6/blobs/sha256:3681\u001b[0m\n",
      "\u001b[34m==>\u001b[0m \u001b[1mDownloading from https://pkg-containers.githubusercontent.com/ghcr1/blobs/sh\u001b[0m\n",
      "######################################################################## 100.0%\n",
      "\u001b[34m==>\u001b[0m \u001b[1mPouring imagemagick@6--6.9.12-66.arm64_monterey.bottle.tar.gz\u001b[0m\n",
      "\u001b[34m==>\u001b[0m \u001b[1mCaveats\u001b[0m\n",
      "imagemagick@6 is keg-only, which means it was not symlinked into /opt/homebrew,\n",
      "because this is an alternate version of another formula.\n",
      "\n",
      "If you need to have imagemagick@6 first in your PATH, run:\n",
      "  echo 'export PATH=\"/opt/homebrew/opt/imagemagick@6/bin:$PATH\"' >> ~/.zshrc\n",
      "\n",
      "For compilers to find imagemagick@6 you may need to set:\n",
      "  export LDFLAGS=\"-L/opt/homebrew/opt/imagemagick@6/lib\"\n",
      "  export CPPFLAGS=\"-I/opt/homebrew/opt/imagemagick@6/include\"\n",
      "\n",
      "For pkg-config to find imagemagick@6 you may need to set:\n",
      "  export PKG_CONFIG_PATH=\"/opt/homebrew/opt/imagemagick@6/lib/pkgconfig\"\n",
      "\n",
      "\u001b[34m==>\u001b[0m \u001b[1mSummary\u001b[0m\n",
      "🍺  /opt/homebrew/Cellar/imagemagick@6/6.9.12-66: 767 files, 27.3MB\n",
      "\u001b[34m==>\u001b[0m \u001b[1mRunning `brew cleanup imagemagick@6`...\u001b[0m\n",
      "Disable this behaviour by setting HOMEBREW_NO_INSTALL_CLEANUP.\n",
      "Hide these hints with HOMEBREW_NO_ENV_HINTS (see `man brew`).\n",
      "\u001b[31mError:\u001b[0m No such keg: /opt/homebrew/Cellar/imagemagick\n",
      "Linking /opt/homebrew/Cellar/imagemagick@6/6.9.12-66... 76 symlinks created.\n",
      "\n",
      "If you need to have this software first in your PATH instead consider running:\n",
      "  echo 'export PATH=\"/opt/homebrew/opt/imagemagick@6/bin:$PATH\"' >> ~/.zshrc\n"
     ]
    }
   ],
   "source": [
    "! brew uninstall imagemagick\n",
    "! brew install imagemagick@6\n",
    "! brew unlink imagemagick\n",
    "! brew link imagemagick@6 --force\n",
    "! echo 'export MAGICK_HOME=\"/usr/local/opt/imagemagick@6/lib\"' >> ~/.bash_profile\n",
    "! echo 'export PATH=\"/usr/local/opt/imagemagick@6/bin:$PATH\"' >> ~/.bash_profile\n",
    "\n",
    "! source ~/.bash_profile"
   ]
  },
  {
   "cell_type": "code",
   "execution_count": null,
   "id": "60ccb8c1-2c79-4b1a-bdad-7d9309b27055",
   "metadata": {},
   "outputs": [],
   "source": [
    "! convert -list font"
   ]
  },
  {
   "cell_type": "markdown",
   "id": "a6a45893-a50f-4ae0-b3a4-03f2422717e6",
   "metadata": {},
   "source": [
    "## Font Generation"
   ]
  },
  {
   "cell_type": "code",
   "execution_count": 82,
   "id": "03556180-1ae2-4974-a09c-b92260b69278",
   "metadata": {},
   "outputs": [],
   "source": [
    "import os\n",
    "import numpy as np\n",
    "import cv2\n",
    "from tqdm import tqdm\n",
    "from wand.color import Color\n",
    "from wand.image import Image\n",
    "from wand.drawing import Drawing\n",
    "from wand.compat import nested\n",
    "import shutil\n",
    "import pandas as pd"
   ]
  },
  {
   "cell_type": "code",
   "execution_count": 6,
   "id": "1876bdad-d6a1-4510-b3c6-c8c3f8bf3b49",
   "metadata": {},
   "outputs": [
    {
     "data": {
      "text/plain": [
       "'ABCDEFGHIJKLMNOPQRSTUVWXYZ'"
      ]
     },
     "execution_count": 6,
     "metadata": {},
     "output_type": "execute_result"
    }
   ],
   "source": [
    "# Charatcters \n",
    "language = 'abcdefghijklmnopqrstuvwxyz'\n",
    "language_upper = language.upper()\n",
    "language += language_upper\n",
    "language += '0123456789'\n",
    "\n",
    "assert len(language) == 26 * 2 + 10 \n",
    "language = language_upper\n",
    "language"
   ]
  },
  {
   "cell_type": "code",
   "execution_count": 425,
   "id": "5ecd375e-a338-4d4e-a601-532a0697fe54",
   "metadata": {},
   "outputs": [],
   "source": [
    "# Fonts\n",
    "handwritten_fonts = ['Herculanum', 'Annai MN', 'Bradley Hand', 'Brush Script MT', 'Chalkboard',\n",
    "             'Comic Sans MS', 'Luminary', 'Noteworthy', 'Papyrus', 'Party LET', 'Savoye LET', \n",
    "             'Sign Painter', 'Skia', 'Snell Roundhand', 'Times New Roman', 'Trattatello', 'Zapfino']\n",
    "typed_fonts = ['Arial', 'Arial Black', 'Arial Narrow', 'Arial Rounded MT Bold', 'Copperplate', 'Courier New', 'Helvetica',\n",
    "              'Impact', 'Lucinda Grande', 'Microsoft Sans Serif', 'Tahoma', 'Verdana', 'Menlo', 'Didot', 'Copperplate', 'Avenir', 'Futura']\n",
    "\n",
    "fonts = handwritten_fonts + typed_fonts \n",
    "# fonts = ['Chalkboard']"
   ]
  },
  {
   "cell_type": "code",
   "execution_count": 426,
   "id": "adc5894d-e450-40e5-84a8-5743725bb216",
   "metadata": {},
   "outputs": [],
   "source": [
    "# resolution\n",
    "width=200\n",
    "height=200\n",
    "font_size=100\n",
    "background = Color('white')\n",
    "foreground=Color('rgb(0, 0, 0)')"
   ]
  },
  {
   "cell_type": "code",
   "execution_count": 427,
   "id": "72195ecd-aa71-4bd8-a415-c87cc5e8a57b",
   "metadata": {},
   "outputs": [
    {
     "data": {
      "text/plain": [
       "'ABCDEFGHIJKLMNOPQRSTUVWXYZ'"
      ]
     },
     "execution_count": 427,
     "metadata": {},
     "output_type": "execute_result"
    }
   ],
   "source": [
    "language"
   ]
  },
  {
   "cell_type": "code",
   "execution_count": 428,
   "id": "ba027f7c-4c24-4724-b708-4df1c21fa239",
   "metadata": {},
   "outputs": [],
   "source": [
    "def delete(language, language_upper):\n",
    "    for c in language:\n",
    "        if c in language_upper:\n",
    "            if os.path.exists(f'{c}{c}'):\n",
    "                shutil.rmtree(f'{c}{c}')\n",
    "        else:\n",
    "            if os.path.exists(c):\n",
    "                shutil.rmtree(f'{c}')"
   ]
  },
  {
   "cell_type": "code",
   "execution_count": 429,
   "id": "c205e0c8-330e-4456-8af0-ddbb03829d12",
   "metadata": {},
   "outputs": [],
   "source": [
    "def generate(fonts, language, language_upper, width=200, height=200, font_size=100, background=Color('white'), foreground=Color('rgb(0,0,0)')):\n",
    "    for f in tqdm(fonts):\n",
    "        for c in language:\n",
    "            if c in language_upper:\n",
    "                if not os.path.exists(f'{c}{c}'):\n",
    "                    os.mkdir(f'{c}{c}')\n",
    "                filename = os.path.join(f'{c}{c}', f'{f}.png')\n",
    "            else:\n",
    "                if not os.path.exists(c):\n",
    "                    os.mkdir(f'{c}')\n",
    "                filename = os.path.join(f'{c}', f'{f}.png')\n",
    "\n",
    "            with Drawing() as draw:\n",
    "                with Image(width=width, height=height, background=background) as img:\n",
    "                    draw.font_family = f\n",
    "                    draw.font_size = font_size\n",
    "                    draw.push()\n",
    "                    draw.fill_color = foreground\n",
    "                    draw.text(0,int(img.height/2), c)\n",
    "                    draw.pop()\n",
    "                    draw(img)\n",
    "                    if os.path.exists(filename):\n",
    "                        os.unlink(filename)\n",
    "                    img.save(filename='tmp.png')\n",
    "\n",
    "                    img = cv2.imread('tmp.png')\n",
    "\n",
    "                    os.unlink('tmp.png')\n",
    "                    ys, xs = np.where(np.all(img == (0, 0, 0), axis=-1))\n",
    "\n",
    "                    cropped = img[min(ys):max(ys)+1, min(xs):max(xs)+1]\n",
    "                    cv2.imwrite(filename, cropped)\n",
    "            "
   ]
  },
  {
   "cell_type": "code",
   "execution_count": 430,
   "id": "8fb5a737-7951-4716-b586-6f65cfe0d1f5",
   "metadata": {},
   "outputs": [
    {
     "name": "stderr",
     "output_type": "stream",
     "text": [
      "100%|█████████████████████████████████████████████████████████████████████████████████████████████████████████████████████████████████████████████████████████████████████████████████████████████████████████████████████████████████████████| 34/34 [00:05<00:00,  5.87it/s]\n"
     ]
    }
   ],
   "source": [
    "generate(fonts, language, language_upper)"
   ]
  },
  {
   "cell_type": "markdown",
   "id": "97b447e5-99ab-4fa0-95be-573f3958db17",
   "metadata": {},
   "source": [
    "#### Inference"
   ]
  },
  {
   "cell_type": "markdown",
   "id": "bf1b2269-bf65-4e2a-b3ab-5e8d77948f85",
   "metadata": {},
   "source": [
    "##### Functions"
   ]
  },
  {
   "cell_type": "code",
   "execution_count": 431,
   "id": "49da5048-ea5c-4cf6-917e-0b23d07adc5b",
   "metadata": {},
   "outputs": [],
   "source": [
    "import matplotlib.pyplot as plt\n",
    "def show(*img):\n",
    "    for i in img:\n",
    "        plt.imshow(i, cmap='gray')\n",
    "        plt.show()\n",
    "\n",
    "# Read\n",
    "def read(path):\n",
    "    return cv2.imread(path, cv2.IMREAD_GRAYSCALE)\n",
    "\n",
    "def bin(img, bins=10, min_diff=10):\n",
    "    count, division = np.histogram(img, bins)\n",
    "    diff_series = pd.Series(count).diff()\n",
    "    \n",
    "    first_histogram_reduction_index = diff_series[(diff_series < 0) & (np.abs(diff_series) > min_diff)].index[0]\n",
    "    threshold = division[first_histogram_reduction_index+1]\n",
    "        \n",
    "    _, img = cv2.threshold(img,threshold,255,cv2.THRESH_BINARY)\n",
    "    return img\n",
    "\n",
    "def bin2(img):\n",
    "    return cv2.threshold(img, 0, 255, cv2.THRESH_BINARY +cv2.THRESH_OTSU)[1]\n",
    "\n",
    "def neg(img):\n",
    "    return 255 - img\n",
    "\n",
    "def redraw_contours(img, thickness=16): \n",
    "    # Find contours and redraw\n",
    "    contours, hierarchy = cv2.findContours(image=img, mode=cv2.RETR_TREE, method=cv2.CHAIN_APPROX_NONE)\n",
    "                                      \n",
    "    # draw contours on the original image\n",
    "    image_copy = img.copy()\n",
    "    cv2.drawContours(image=image_copy, contours=contours, contourIdx=-1, color=(255, 255, 255), thickness=thickness, lineType=cv2.LINE_AA)\n",
    "    return image_copy\n",
    "\n",
    "def components(img, min_area=1000):\n",
    "    # Connected components\n",
    "    output = cv2.connectedComponentsWithStats(img, 4, cv2.CV_32S)\n",
    "    num_letters = output[0]\n",
    "    letters = output[1]\n",
    "    stats = output[2]\n",
    "    centroids = output[3]\n",
    "\n",
    "    letter_imgs = []\n",
    "    ## Sort letters + area check\n",
    "    image_copy = img.copy()\n",
    "    for l in range(1, num_letters):\n",
    "        minx = stats[l, cv2.CC_STAT_LEFT]\n",
    "        maxx = stats[l, cv2.CC_STAT_WIDTH] + minx\n",
    "        miny = stats[l, cv2.CC_STAT_TOP] \n",
    "        maxy = stats[l, cv2.CC_STAT_HEIGHT] + miny\n",
    "        area = stats[l, cv2.CC_STAT_AREA]\n",
    "        if area < min_area:\n",
    "            continue\n",
    "\n",
    "        cropped_img = img[miny:maxy+1, minx: maxx+1].copy()\n",
    "        letter_imgs.append((cropped_img, minx))\n",
    "        cv2.rectangle(image_copy,(minx, miny), (maxx, maxy) ,(255, 255, 255), 3)\n",
    "\n",
    "    sorted_img_list = sorted(letter_imgs, \n",
    "       key=lambda x: x[1])\n",
    "    return [s[0] for s in sorted_img_list]\n",
    "\n",
    "def gray(img):\n",
    "    return cv2.cvtColor(img, cv2.COLOR_BGR2GRAY)\n",
    "\n",
    "def resize(img, size=(100, 100)):\n",
    "    return cv2.resize(img, size, interpolation=cv2.INTER_NEAREST)\n",
    "\n",
    "def erode(img, it=1):\n",
    "    kernel = np.ones((5, 5), np.uint8)\n",
    "    return cv2.erode(img, kernel, iterations=it)\n",
    "\n",
    "def dilate(img, it=1):\n",
    "    kernel = np.ones((5, 5), np.uint8)\n",
    "    return cv2.dilate(img, kernel, iterations=it)"
   ]
  },
  {
   "cell_type": "code",
   "execution_count": 432,
   "id": "e04b95dd-1f38-4c1b-b45b-edeb02250811",
   "metadata": {},
   "outputs": [],
   "source": [
    "def pipeline(x, show_steps=False):\n",
    "    img = read(x)\n",
    "    img_bin = bin(img)\n",
    "    \n",
    "    # # Denoise\n",
    "    # img_bin = bin(cv2.blur(img_bin,(2,2)))\n",
    "    \n",
    "    # Neg\n",
    "    img_bin_neg = neg(img_bin)\n",
    "    \n",
    "    # Adaptive thickening\n",
    "#     thickness = 4\n",
    "#     redraw = redraw_contours(img_bin_neg, thickness=thickness)\n",
    "#     letter_boxes = components(redraw)\n",
    "#     n_letters = len(letter_boxes)\n",
    "    \n",
    "#     tmp_letters = n_letters\n",
    "#     # print(n_letters)\n",
    "#     while True:\n",
    "#         thickness *= 2\n",
    "#         redraw = redraw_contours(img_bin_neg, thickness=thickness)\n",
    "#         letter_boxes = components(redraw)\n",
    "#         tmp_letters = len(letter_boxes)\n",
    "#         print(tmp_letters)\n",
    "        \n",
    "#         if tmp_letters < n_letters:\n",
    "#             break\n",
    "#         elif tmp_letters >= n_letters:\n",
    "#             n_letters = tmp_letters\n",
    "        \n",
    "#     thickness//=2\n",
    "#     redraw = redraw_contours(img_bin_neg, thickness=thickness)\n",
    "\n",
    "    # Redraw contours to make stronger letters\n",
    "    redraw = redraw_contours(img_bin_neg)\n",
    "    \n",
    "    # Find components\n",
    "    letter_boxes = components(redraw)\n",
    "\n",
    "    letter_boxes = [neg(l) for l in letter_boxes]\n",
    "    if show_steps:\n",
    "        show(img)\n",
    "        show(img_bin)\n",
    "        show(img_bin_neg)\n",
    "        show(redraw)\n",
    "        for l in letter_boxes:\n",
    "            show(l)\n",
    "            \n",
    "    return letter_boxes"
   ]
  },
  {
   "cell_type": "code",
   "execution_count": 433,
   "id": "b19f8cb4-de93-42de-9edb-d6df7c12825b",
   "metadata": {},
   "outputs": [],
   "source": [
    "def classify(letter_img, inference_size=(200, 200), _filter='.png'):\n",
    "    results = []\n",
    "    for c in language:\n",
    "        if c in language_upper:\n",
    "            fld = f'{c}{c}'\n",
    "        else:\n",
    "            fld = f'{c}'\n",
    "            \n",
    "        files = [x for x in os.listdir(fld) if x.endswith(_filter)]\n",
    "        letter_img_r = bin(cv2.resize(letter_img, inference_size, interpolation=cv2.INTER_NEAREST))\n",
    "        for f in files: \n",
    "            ## TODO Check and possibly binarize all when reading\n",
    "            path = os.path.join(fld, f)\n",
    "            img_f = bin(cv2.imread(path, cv2.IMREAD_GRAYSCALE))\n",
    "            img_fr = bin(cv2.resize(img_f, inference_size, interpolation=cv2.INTER_NEAREST))\n",
    "            \n",
    "            iou = (letter_img_r//255 & img_fr//255).sum() / (letter_img_r//255 | img_fr//255).sum()\n",
    "            results.append( {\n",
    "                'char': c,\n",
    "                'font': f,\n",
    "                'iou': iou\n",
    "            })\n",
    "    results = pd.DataFrame(results)\n",
    "    \n",
    "    # selection\n",
    "    g = results.groupby('char')['iou'].mean()\n",
    "    character = g[g == g.max()].index[0]\n",
    "    return character, results"
   ]
  },
  {
   "cell_type": "code",
   "execution_count": 434,
   "id": "52177da4-17ec-4559-8921-69bda10b0724",
   "metadata": {},
   "outputs": [],
   "source": [
    "def ocr(path, show_steps=False, return_dfs=False):\n",
    "    letters = pipeline(path, show_steps=show_steps)\n",
    "    if return_dfs==False:\n",
    "        return [classify(l)[0] for l in letters]\n",
    "    else:\n",
    "        return [classify(l) for l in letters]"
   ]
  },
  {
   "cell_type": "markdown",
   "id": "3ee6378d-0f1a-4e25-b6dd-0125f712aa3c",
   "metadata": {
    "jp-MarkdownHeadingCollapsed": true,
    "tags": []
   },
   "source": [
    "##### Best font search"
   ]
  },
  {
   "cell_type": "code",
   "execution_count": 2222,
   "id": "783ace6c-9ec3-47e1-a4dc-54180fbade3c",
   "metadata": {},
   "outputs": [],
   "source": [
    "expectations = {\n",
    "    'test.png' : \"TEST\",\n",
    "    'tactical.png': \"TACTICAL\",\n",
    "    'digital.png': \"DIGITAL\",\n",
    "    'ocr.png': \"OCR\",\n",
    "    'team.png': \"TEAM\",\n",
    "    'processing.png': \"PROCESSING\",\n",
    "}"
   ]
  },
  {
   "cell_type": "code",
   "execution_count": 2167,
   "id": "8ecdf817-64dc-4067-a306-6249234a2179",
   "metadata": {},
   "outputs": [
    {
     "name": "stderr",
     "output_type": "stream",
     "text": [
      "  0%|                                                                                                                                                                                                                                                  | 0/34 [00:00<?, ?it/s]\n",
      "  0%|                                                                                                                                                                                                                                                   | 0/1 [00:00<?, ?it/s]\u001b[A\n",
      "100%|███████████████████████████████████████████████████████████████████████████████████████████████████████████████████████████████████████████████████████████████████████████████████████████████████████████████████████████████████████████| 1/1 [00:00<00:00,  7.92it/s]\u001b[A\n",
      "  3%|██████▉                                                                                                                                                                                                                                   | 1/34 [00:05<03:15,  5.93s/it]\n",
      "  0%|                                                                                                                                                                                                                                                   | 0/1 [00:00<?, ?it/s]\u001b[A\n",
      "100%|███████████████████████████████████████████████████████████████████████████████████████████████████████████████████████████████████████████████████████████████████████████████████████████████████████████████████████████████████████████| 1/1 [00:00<00:00,  6.10it/s]\u001b[A\n",
      "  6%|█████████████▊                                                                                                                                                                                                                            | 2/34 [00:11<03:09,  5.93s/it]\n",
      "  0%|                                                                                                                                                                                                                                                   | 0/1 [00:00<?, ?it/s]\u001b[A\n",
      "100%|███████████████████████████████████████████████████████████████████████████████████████████████████████████████████████████████████████████████████████████████████████████████████████████████████████████████████████████████████████████| 1/1 [00:00<00:00,  6.04it/s]\u001b[A\n",
      "  9%|████████████████████▋                                                                                                                                                                                                                     | 3/34 [00:17<03:04,  5.96s/it]\n",
      "  0%|                                                                                                                                                                                                                                                   | 0/1 [00:00<?, ?it/s]\u001b[A\n",
      "100%|███████████████████████████████████████████████████████████████████████████████████████████████████████████████████████████████████████████████████████████████████████████████████████████████████████████████████████████████████████████| 1/1 [00:00<00:00,  7.64it/s]\u001b[A\n",
      " 12%|███████████████████████████▌                                                                                                                                                                                                              | 4/34 [00:23<02:58,  5.95s/it]\n",
      "  0%|                                                                                                                                                                                                                                                   | 0/1 [00:00<?, ?it/s]\u001b[A\n",
      "100%|███████████████████████████████████████████████████████████████████████████████████████████████████████████████████████████████████████████████████████████████████████████████████████████████████████████████████████████████████████████| 1/1 [00:00<00:00,  8.05it/s]\u001b[A\n",
      " 15%|██████████████████████████████████▍                                                                                                                                                                                                       | 5/34 [00:29<02:51,  5.93s/it]\n",
      "  0%|                                                                                                                                                                                                                                                   | 0/1 [00:00<?, ?it/s]\u001b[A\n",
      "100%|███████████████████████████████████████████████████████████████████████████████████████████████████████████████████████████████████████████████████████████████████████████████████████████████████████████████████████████████████████████| 1/1 [00:00<00:00,  8.01it/s]\u001b[A\n",
      " 18%|█████████████████████████████████████████▎                                                                                                                                                                                                | 6/34 [00:35<02:45,  5.92s/it]\n",
      "  0%|                                                                                                                                                                                                                                                   | 0/1 [00:00<?, ?it/s]\u001b[A\n",
      "100%|███████████████████████████████████████████████████████████████████████████████████████████████████████████████████████████████████████████████████████████████████████████████████████████████████████████████████████████████████████████| 1/1 [00:00<00:00,  6.18it/s]\u001b[A\n",
      " 21%|████████████████████████████████████████████████▏                                                                                                                                                                                         | 7/34 [00:41<02:40,  5.93s/it]\n",
      "  0%|                                                                                                                                                                                                                                                   | 0/1 [00:00<?, ?it/s]\u001b[A\n",
      "100%|███████████████████████████████████████████████████████████████████████████████████████████████████████████████████████████████████████████████████████████████████████████████████████████████████████████████████████████████████████████| 1/1 [00:00<00:00,  6.19it/s]\u001b[A\n",
      " 24%|███████████████████████████████████████████████████████                                                                                                                                                                                   | 8/34 [00:47<02:34,  5.94s/it]\n",
      "  0%|                                                                                                                                                                                                                                                   | 0/1 [00:00<?, ?it/s]\u001b[A\n",
      "100%|███████████████████████████████████████████████████████████████████████████████████████████████████████████████████████████████████████████████████████████████████████████████████████████████████████████████████████████████████████████| 1/1 [00:00<00:00,  7.54it/s]\u001b[A\n",
      " 26%|█████████████████████████████████████████████████████████████▉                                                                                                                                                                            | 9/34 [00:53<02:28,  5.94s/it]\n",
      "  0%|                                                                                                                                                                                                                                                   | 0/1 [00:00<?, ?it/s]\u001b[A\n",
      "100%|███████████████████████████████████████████████████████████████████████████████████████████████████████████████████████████████████████████████████████████████████████████████████████████████████████████████████████████████████████████| 1/1 [00:00<00:00,  7.09it/s]\u001b[A\n",
      " 29%|████████████████████████████████████████████████████████████████████▌                                                                                                                                                                    | 10/34 [00:59<02:22,  5.95s/it]\n",
      "  0%|                                                                                                                                                                                                                                                   | 0/1 [00:00<?, ?it/s]\u001b[A\n",
      "100%|███████████████████████████████████████████████████████████████████████████████████████████████████████████████████████████████████████████████████████████████████████████████████████████████████████████████████████████████████████████| 1/1 [00:00<00:00,  7.68it/s]\u001b[A\n",
      " 32%|███████████████████████████████████████████████████████████████████████████▍                                                                                                                                                             | 11/34 [01:05<02:16,  5.96s/it]\n",
      "  0%|                                                                                                                                                                                                                                                   | 0/1 [00:00<?, ?it/s]\u001b[A\n",
      "100%|███████████████████████████████████████████████████████████████████████████████████████████████████████████████████████████████████████████████████████████████████████████████████████████████████████████████████████████████████████████| 1/1 [00:00<00:00,  6.14it/s]\u001b[A\n",
      " 35%|██████████████████████████████████████████████████████████████████████████████████▏                                                                                                                                                      | 12/34 [01:11<02:10,  5.95s/it]\n",
      "  0%|                                                                                                                                                                                                                                                   | 0/1 [00:00<?, ?it/s]\u001b[A\n",
      "100%|███████████████████████████████████████████████████████████████████████████████████████████████████████████████████████████████████████████████████████████████████████████████████████████████████████████████████████████████████████████| 1/1 [00:00<00:00,  7.57it/s]\u001b[A\n",
      " 38%|█████████████████████████████████████████████████████████████████████████████████████████                                                                                                                                                | 13/34 [01:17<02:04,  5.94s/it]\n",
      "  0%|                                                                                                                                                                                                                                                   | 0/1 [00:00<?, ?it/s]\u001b[A\n",
      "100%|███████████████████████████████████████████████████████████████████████████████████████████████████████████████████████████████████████████████████████████████████████████████████████████████████████████████████████████████████████████| 1/1 [00:00<00:00,  5.84it/s]\u001b[A\n",
      " 41%|███████████████████████████████████████████████████████████████████████████████████████████████▉                                                                                                                                         | 14/34 [01:23<01:59,  5.99s/it]\n",
      "  0%|                                                                                                                                                                                                                                                   | 0/1 [00:00<?, ?it/s]\u001b[A\n",
      "100%|███████████████████████████████████████████████████████████████████████████████████████████████████████████████████████████████████████████████████████████████████████████████████████████████████████████████████████████████████████████| 1/1 [00:00<00:00,  7.06it/s]\u001b[A\n",
      " 44%|██████████████████████████████████████████████████████████████████████████████████████████████████████▊                                                                                                                                  | 15/34 [01:29<01:53,  5.98s/it]\n",
      "  0%|                                                                                                                                                                                                                                                   | 0/1 [00:00<?, ?it/s]\u001b[A\n",
      "100%|███████████████████████████████████████████████████████████████████████████████████████████████████████████████████████████████████████████████████████████████████████████████████████████████████████████████████████████████████████████| 1/1 [00:00<00:00,  7.02it/s]\u001b[A\n",
      " 47%|█████████████████████████████████████████████████████████████████████████████████████████████████████████████▋                                                                                                                           | 16/34 [01:35<01:47,  5.97s/it]\n",
      "  0%|                                                                                                                                                                                                                                                   | 0/1 [00:00<?, ?it/s]\u001b[A\n",
      "100%|███████████████████████████████████████████████████████████████████████████████████████████████████████████████████████████████████████████████████████████████████████████████████████████████████████████████████████████████████████████| 1/1 [00:00<00:00,  6.41it/s]\u001b[A\n",
      " 50%|████████████████████████████████████████████████████████████████████████████████████████████████████████████████████▌                                                                                                                    | 17/34 [01:41<01:42,  6.04s/it]\n",
      "  0%|                                                                                                                                                                                                                                                   | 0/1 [00:00<?, ?it/s]\u001b[A\n",
      "100%|███████████████████████████████████████████████████████████████████████████████████████████████████████████████████████████████████████████████████████████████████████████████████████████████████████████████████████████████████████████| 1/1 [00:00<00:00,  8.12it/s]\u001b[A\n",
      " 53%|███████████████████████████████████████████████████████████████████████████████████████████████████████████████████████████▎                                                                                                             | 18/34 [01:47<01:35,  6.00s/it]\n",
      "  0%|                                                                                                                                                                                                                                                   | 0/1 [00:00<?, ?it/s]\u001b[A\n",
      "100%|███████████████████████████████████████████████████████████████████████████████████████████████████████████████████████████████████████████████████████████████████████████████████████████████████████████████████████████████████████████| 1/1 [00:00<00:00,  6.20it/s]\u001b[A\n",
      " 56%|██████████████████████████████████████████████████████████████████████████████████████████████████████████████████████████████████▏                                                                                                      | 19/34 [01:53<01:29,  5.97s/it]\n",
      "  0%|                                                                                                                                                                                                                                                   | 0/1 [00:00<?, ?it/s]\u001b[A\n",
      "100%|███████████████████████████████████████████████████████████████████████████████████████████████████████████████████████████████████████████████████████████████████████████████████████████████████████████████████████████████████████████| 1/1 [00:00<00:00,  8.28it/s]\u001b[A\n",
      " 59%|█████████████████████████████████████████████████████████████████████████████████████████████████████████████████████████████████████████                                                                                                | 20/34 [01:59<01:23,  5.95s/it]\n",
      "  0%|                                                                                                                                                                                                                                                   | 0/1 [00:00<?, ?it/s]\u001b[A\n",
      "100%|███████████████████████████████████████████████████████████████████████████████████████████████████████████████████████████████████████████████████████████████████████████████████████████████████████████████████████████████████████████| 1/1 [00:00<00:00,  8.09it/s]\u001b[A\n",
      " 62%|███████████████████████████████████████████████████████████████████████████████████████████████████████████████████████████████████████████████▉                                                                                         | 21/34 [02:05<01:17,  5.93s/it]\n",
      "  0%|                                                                                                                                                                                                                                                   | 0/1 [00:00<?, ?it/s]\u001b[A\n",
      "100%|███████████████████████████████████████████████████████████████████████████████████████████████████████████████████████████████████████████████████████████████████████████████████████████████████████████████████████████████████████████| 1/1 [00:00<00:00,  8.26it/s]\u001b[A\n",
      " 65%|██████████████████████████████████████████████████████████████████████████████████████████████████████████████████████████████████████████████████████▊                                                                                  | 22/34 [02:10<01:10,  5.91s/it]\n",
      "  0%|                                                                                                                                                                                                                                                   | 0/1 [00:00<?, ?it/s]\u001b[A\n",
      "100%|███████████████████████████████████████████████████████████████████████████████████████████████████████████████████████████████████████████████████████████████████████████████████████████████████████████████████████████████████████████| 1/1 [00:00<00:00,  8.23it/s]\u001b[A\n",
      " 68%|█████████████████████████████████████████████████████████████████████████████████████████████████████████████████████████████████████████████████████████████▌                                                                           | 23/34 [02:16<01:05,  5.91s/it]\n",
      "  0%|                                                                                                                                                                                                                                                   | 0/1 [00:00<?, ?it/s]\u001b[A\n",
      "100%|███████████████████████████████████████████████████████████████████████████████████████████████████████████████████████████████████████████████████████████████████████████████████████████████████████████████████████████████████████████| 1/1 [00:00<00:00,  6.42it/s]\u001b[A\n",
      " 71%|████████████████████████████████████████████████████████████████████████████████████████████████████████████████████████████████████████████████████████████████████▍                                                                    | 24/34 [02:22<00:59,  5.92s/it]\n",
      "  0%|                                                                                                                                                                                                                                                   | 0/1 [00:00<?, ?it/s]\u001b[A\n",
      "100%|███████████████████████████████████████████████████████████████████████████████████████████████████████████████████████████████████████████████████████████████████████████████████████████████████████████████████████████████████████████| 1/1 [00:00<00:00,  8.02it/s]\u001b[A\n",
      " 74%|███████████████████████████████████████████████████████████████████████████████████████████████████████████████████████████████████████████████████████████████████████████▎                                                             | 25/34 [07:08<13:30, 90.02s/it]\n",
      "  0%|                                                                                                                                                                                    | 0/1 [00:00<?, ?it/s]\u001b[A\n",
      "100%|████████████████████████████████████████████████████████████████████████████████████████████████████████████████████████████████████████████████████████████████████████████| 1/1 [00:00<00:00,  4.81it/s]\u001b[A\n",
      " 76%|█████████████████████████████████████████████████████████████████████████████████████████████████████████████████████████████████████████████████████████████████████████████████▍                                                      | 26/34 [20:21<40:05, 300.65s/it]\n",
      "  0%|                                                                                                                                                                                    | 0/1 [00:00<?, ?it/s]\u001b[A\n",
      "100%|████████████████████████████████████████████████████████████████████████████████████████████████████████████████████████████████████████████████████████████████████████████| 1/1 [00:00<00:00,  8.00it/s]\u001b[A\n",
      " 79%|████████████████████████████████████████████████████████████████████████████████████████████████████████████████████████████████████████████████████████████████████████████████████████▏                                               | 27/34 [20:26<24:45, 212.23s/it]\n",
      "  0%|                                                                                                                                                                                    | 0/1 [00:00<?, ?it/s]\u001b[A\n",
      "100%|████████████████████████████████████████████████████████████████████████████████████████████████████████████████████████████████████████████████████████████████████████████| 1/1 [00:00<00:00,  7.32it/s]\u001b[A\n",
      " 82%|███████████████████████████████████████████████████████████████████████████████████████████████████████████████████████████████████████████████████████████████████████████████████████████████                                         | 28/34 [20:32<15:01, 150.33s/it]\n",
      "  0%|                                                                                                                                                                                    | 0/1 [00:00<?, ?it/s]\u001b[A\n",
      "100%|████████████████████████████████████████████████████████████████████████████████████████████████████████████████████████████████████████████████████████████████████████████| 1/1 [00:00<00:00,  7.38it/s]\u001b[A\n",
      " 85%|█████████████████████████████████████████████████████████████████████████████████████████████████████████████████████████████████████████████████████████████████████████████████████████████████████▉                                  | 29/34 [20:38<08:54, 107.00s/it]\n",
      "  0%|                                                                                                                                                                                    | 0/1 [00:00<?, ?it/s]\u001b[A\n",
      "100%|████████████████████████████████████████████████████████████████████████████████████████████████████████████████████████████████████████████████████████████████████████████| 1/1 [00:00<00:00,  8.11it/s]\u001b[A\n",
      " 88%|████████████████████████████████████████████████████████████████████████████████████████████████████████████████████████████████████████████████████████████████████████████████████████████████████████████▋                           | 30/34 [37:21<25:02, 375.64s/it]\n",
      "  0%|                                                                                                                                                                                    | 0/1 [00:00<?, ?it/s]\u001b[A\n",
      "100%|████████████████████████████████████████████████████████████████████████████████████████████████████████████████████████████████████████████████████████████████████████████| 1/1 [00:00<00:00,  8.41it/s]\u001b[A\n",
      " 91%|███████████████████████████████████████████████████████████████████████████████████████████████████████████████████████████████████████████████████████████████████████████████████████████████████████████████████▌                    | 31/34 [37:27<13:14, 264.72s/it]\n",
      "  0%|                                                                                                                                                                                    | 0/1 [00:00<?, ?it/s]\u001b[A\n",
      "100%|████████████████████████████████████████████████████████████████████████████████████████████████████████████████████████████████████████████████████████████████████████████| 1/1 [00:00<00:00,  8.58it/s]\u001b[A\n",
      " 94%|██████████████████████████████████████████████████████████████████████████████████████████████████████████████████████████████████████████████████████████████████████████████████████████████████████████████████████████▎             | 32/34 [52:40<15:18, 459.43s/it]\n",
      "  0%|                                                                                                                                                                                    | 0/1 [00:00<?, ?it/s]\u001b[A\n",
      "100%|████████████████████████████████████████████████████████████████████████████████████████████████████████████████████████████████████████████████████████████████████████████| 1/1 [00:00<00:00,  8.41it/s]\u001b[A\n",
      " 97%|█████████████████████████████████████████████████████████████████████████████████████████████████████████████████████████████████████████████████████████████████████████████████████████████████████████████████████████████████▏      | 33/34 [52:46<05:23, 323.37s/it]\n",
      "  0%|                                                                                                                                                                                    | 0/1 [00:00<?, ?it/s]\u001b[A\n",
      "100%|███████████████████████████████████████████████████████████████████████████████████████████████████████████████████████████████████████████████████████████████████████████| 1/1 [15:44<00:00, 944.19s/it]\u001b[A\n",
      "100%|██████████████████████████████████████████████████████████████████████████████████████████████████████████████████████████████████████████████████████████████████████████████████████████████████████████████████████████████████████| 34/34 [1:08:36<00:00, 121.08s/it]\n"
     ]
    },
    {
     "data": {
      "text/plain": [
       "{'Herculanum': 23,\n",
       " 'Annai MN': 21,\n",
       " 'Bradley Hand': 24,\n",
       " 'Brush Script MT': 16,\n",
       " 'Chalkboard': 28,\n",
       " 'Comic Sans MS': 28,\n",
       " 'Luminary': 21,\n",
       " 'Noteworthy': 15,\n",
       " 'Papyrus': 19,\n",
       " 'Party LET': 9,\n",
       " 'Savoye LET': 3,\n",
       " 'Sign Painter': 21,\n",
       " 'Skia': 22,\n",
       " 'Snell Roundhand': 3,\n",
       " 'Times New Roman': 23,\n",
       " 'Trattatello': 26,\n",
       " 'Zapfino': 4,\n",
       " 'Arial': 21,\n",
       " 'Arial Black': 26,\n",
       " 'Arial Narrow': 20,\n",
       " 'Arial Rounded MT Bold': 23,\n",
       " 'Copperplate': 27,\n",
       " 'Courier New': 9,\n",
       " 'Helvetica': 19,\n",
       " 'Impact': 21,\n",
       " 'Lucinda Grande': 21,\n",
       " 'Microsoft Sans Serif': 19,\n",
       " 'Tahoma': 28,\n",
       " 'Verdana': 26,\n",
       " 'Menlo': 20,\n",
       " 'Didot': 18,\n",
       " 'Avenir': 21,\n",
       " 'Futura': 25}"
      ]
     },
     "execution_count": 2167,
     "metadata": {},
     "output_type": "execute_result"
    }
   ],
   "source": [
    "test_fonts = handwritten_fonts + typed_fonts\n",
    "font_results = {}\n",
    "for f in tqdm(test_fonts):\n",
    "    count = 0\n",
    "    delete(language, language_upper)\n",
    "    generate([f], language, language_upper)\n",
    "    for path, exp_result in expectations.items():\n",
    "        res = ''.join(ocr(path))\n",
    "        for i in range(len(exp_result)):\n",
    "            if res[i] == exp_result[i]:\n",
    "                count+=1\n",
    "    font_results[f] = count\n",
    "font_results"
   ]
  },
  {
   "cell_type": "code",
   "execution_count": 2174,
   "id": "0135c72d-5ba9-4aff-a4d1-77559c81feda",
   "metadata": {},
   "outputs": [
    {
     "data": {
      "text/html": [
       "<div>\n",
       "<style scoped>\n",
       "    .dataframe tbody tr th:only-of-type {\n",
       "        vertical-align: middle;\n",
       "    }\n",
       "\n",
       "    .dataframe tbody tr th {\n",
       "        vertical-align: top;\n",
       "    }\n",
       "\n",
       "    .dataframe thead th {\n",
       "        text-align: right;\n",
       "    }\n",
       "</style>\n",
       "<table border=\"1\" class=\"dataframe\">\n",
       "  <thead>\n",
       "    <tr style=\"text-align: right;\">\n",
       "      <th></th>\n",
       "      <th>0</th>\n",
       "    </tr>\n",
       "  </thead>\n",
       "  <tbody>\n",
       "    <tr>\n",
       "      <th>Savoye LET</th>\n",
       "      <td>3</td>\n",
       "    </tr>\n",
       "    <tr>\n",
       "      <th>Snell Roundhand</th>\n",
       "      <td>3</td>\n",
       "    </tr>\n",
       "    <tr>\n",
       "      <th>Zapfino</th>\n",
       "      <td>4</td>\n",
       "    </tr>\n",
       "    <tr>\n",
       "      <th>Courier New</th>\n",
       "      <td>9</td>\n",
       "    </tr>\n",
       "    <tr>\n",
       "      <th>Party LET</th>\n",
       "      <td>9</td>\n",
       "    </tr>\n",
       "    <tr>\n",
       "      <th>Noteworthy</th>\n",
       "      <td>15</td>\n",
       "    </tr>\n",
       "    <tr>\n",
       "      <th>Brush Script MT</th>\n",
       "      <td>16</td>\n",
       "    </tr>\n",
       "    <tr>\n",
       "      <th>Didot</th>\n",
       "      <td>18</td>\n",
       "    </tr>\n",
       "    <tr>\n",
       "      <th>Microsoft Sans Serif</th>\n",
       "      <td>19</td>\n",
       "    </tr>\n",
       "    <tr>\n",
       "      <th>Papyrus</th>\n",
       "      <td>19</td>\n",
       "    </tr>\n",
       "    <tr>\n",
       "      <th>Helvetica</th>\n",
       "      <td>19</td>\n",
       "    </tr>\n",
       "    <tr>\n",
       "      <th>Menlo</th>\n",
       "      <td>20</td>\n",
       "    </tr>\n",
       "    <tr>\n",
       "      <th>Arial Narrow</th>\n",
       "      <td>20</td>\n",
       "    </tr>\n",
       "    <tr>\n",
       "      <th>Annai MN</th>\n",
       "      <td>21</td>\n",
       "    </tr>\n",
       "    <tr>\n",
       "      <th>Lucinda Grande</th>\n",
       "      <td>21</td>\n",
       "    </tr>\n",
       "    <tr>\n",
       "      <th>Impact</th>\n",
       "      <td>21</td>\n",
       "    </tr>\n",
       "    <tr>\n",
       "      <th>Avenir</th>\n",
       "      <td>21</td>\n",
       "    </tr>\n",
       "    <tr>\n",
       "      <th>Arial</th>\n",
       "      <td>21</td>\n",
       "    </tr>\n",
       "    <tr>\n",
       "      <th>Luminary</th>\n",
       "      <td>21</td>\n",
       "    </tr>\n",
       "    <tr>\n",
       "      <th>Sign Painter</th>\n",
       "      <td>21</td>\n",
       "    </tr>\n",
       "    <tr>\n",
       "      <th>Skia</th>\n",
       "      <td>22</td>\n",
       "    </tr>\n",
       "    <tr>\n",
       "      <th>Herculanum</th>\n",
       "      <td>23</td>\n",
       "    </tr>\n",
       "    <tr>\n",
       "      <th>Arial Rounded MT Bold</th>\n",
       "      <td>23</td>\n",
       "    </tr>\n",
       "    <tr>\n",
       "      <th>Times New Roman</th>\n",
       "      <td>23</td>\n",
       "    </tr>\n",
       "    <tr>\n",
       "      <th>Bradley Hand</th>\n",
       "      <td>24</td>\n",
       "    </tr>\n",
       "    <tr>\n",
       "      <th>Futura</th>\n",
       "      <td>25</td>\n",
       "    </tr>\n",
       "    <tr>\n",
       "      <th>Arial Black</th>\n",
       "      <td>26</td>\n",
       "    </tr>\n",
       "    <tr>\n",
       "      <th>Trattatello</th>\n",
       "      <td>26</td>\n",
       "    </tr>\n",
       "    <tr>\n",
       "      <th>Verdana</th>\n",
       "      <td>26</td>\n",
       "    </tr>\n",
       "    <tr>\n",
       "      <th>Copperplate</th>\n",
       "      <td>27</td>\n",
       "    </tr>\n",
       "    <tr>\n",
       "      <th>Comic Sans MS</th>\n",
       "      <td>28</td>\n",
       "    </tr>\n",
       "    <tr>\n",
       "      <th>Tahoma</th>\n",
       "      <td>28</td>\n",
       "    </tr>\n",
       "    <tr>\n",
       "      <th>Chalkboard</th>\n",
       "      <td>28</td>\n",
       "    </tr>\n",
       "  </tbody>\n",
       "</table>\n",
       "</div>"
      ],
      "text/plain": [
       "                        0\n",
       "Savoye LET              3\n",
       "Snell Roundhand         3\n",
       "Zapfino                 4\n",
       "Courier New             9\n",
       "Party LET               9\n",
       "Noteworthy             15\n",
       "Brush Script MT        16\n",
       "Didot                  18\n",
       "Microsoft Sans Serif   19\n",
       "Papyrus                19\n",
       "Helvetica              19\n",
       "Menlo                  20\n",
       "Arial Narrow           20\n",
       "Annai MN               21\n",
       "Lucinda Grande         21\n",
       "Impact                 21\n",
       "Avenir                 21\n",
       "Arial                  21\n",
       "Luminary               21\n",
       "Sign Painter           21\n",
       "Skia                   22\n",
       "Herculanum             23\n",
       "Arial Rounded MT Bold  23\n",
       "Times New Roman        23\n",
       "Bradley Hand           24\n",
       "Futura                 25\n",
       "Arial Black            26\n",
       "Trattatello            26\n",
       "Verdana                26\n",
       "Copperplate            27\n",
       "Comic Sans MS          28\n",
       "Tahoma                 28\n",
       "Chalkboard             28"
      ]
     },
     "execution_count": 2174,
     "metadata": {},
     "output_type": "execute_result"
    }
   ],
   "source": [
    "pd.DataFrame([font_results]).T.sort_values(by=0)"
   ]
  },
  {
   "cell_type": "markdown",
   "id": "796f15cd-29c7-4bc6-a67d-ec56e588650f",
   "metadata": {},
   "source": [
    "### NN"
   ]
  },
  {
   "cell_type": "code",
   "execution_count": 435,
   "id": "12a2cfd2-0f55-4411-8b95-8cc88d1716e5",
   "metadata": {},
   "outputs": [],
   "source": [
    "import tensorflow as tf\n",
    "from tensorflow.keras import datasets, layers, models"
   ]
  },
  {
   "cell_type": "code",
   "execution_count": 436,
   "id": "9f8e0119-2c38-40a5-86ef-344dfdca9def",
   "metadata": {},
   "outputs": [],
   "source": [
    "def augment(train_images, train_labels, depth=2):\n",
    "    res_images = []\n",
    "    res_labels = []\n",
    "    for i in range(train_images.shape[0]):\n",
    "        img = train_images[i]\n",
    "        l = train_labels[i]\n",
    "        for it in range(0, depth):\n",
    "            img_x = erode(img, it=it)\n",
    "            res_images.append(img_x)\n",
    "            res_labels.append(l)\n",
    "        for it in range(0, depth):\n",
    "            img_x = dilate(img, it=it)\n",
    "            res_images.append(img_x)\n",
    "            res_labels.append(l)\n",
    "    return np.stack(res_images),np.array(res_labels)  "
   ]
  },
  {
   "cell_type": "code",
   "execution_count": 437,
   "id": "96142a8a-ef40-46b3-af7a-b4fcc2a74cb4",
   "metadata": {},
   "outputs": [
    {
     "name": "stdout",
     "output_type": "stream",
     "text": [
      "Model: \"sequential_33\"\n",
      "_________________________________________________________________\n",
      " Layer (type)                Output Shape              Param #   \n",
      "=================================================================\n",
      " conv2d_99 (Conv2D)          (None, 62, 62, 32)        320       \n",
      "                                                                 \n",
      " max_pooling2d_66 (MaxPoolin  (None, 31, 31, 32)       0         \n",
      " g2D)                                                            \n",
      "                                                                 \n",
      " conv2d_100 (Conv2D)         (None, 29, 29, 64)        18496     \n",
      "                                                                 \n",
      " max_pooling2d_67 (MaxPoolin  (None, 14, 14, 64)       0         \n",
      " g2D)                                                            \n",
      "                                                                 \n",
      " conv2d_101 (Conv2D)         (None, 12, 12, 64)        36928     \n",
      "                                                                 \n",
      " flatten_32 (Flatten)        (None, 9216)              0         \n",
      "                                                                 \n",
      " dense_63 (Dense)            (None, 64)                589888    \n",
      "                                                                 \n",
      " dense_64 (Dense)            (None, 26)                1690      \n",
      "                                                                 \n",
      "=================================================================\n",
      "Total params: 647,322\n",
      "Trainable params: 647,322\n",
      "Non-trainable params: 0\n",
      "_________________________________________________________________\n",
      "Epoch 1/20\n",
      "108/108 [==============================] - 3s 27ms/step - loss: 1.5702 - accuracy: 0.5720\n",
      "Epoch 2/20\n",
      "108/108 [==============================] - 3s 27ms/step - loss: 0.5105 - accuracy: 0.8575\n",
      "Epoch 3/20\n",
      "108/108 [==============================] - 3s 27ms/step - loss: 0.2653 - accuracy: 0.9234\n",
      "Epoch 4/20\n",
      "108/108 [==============================] - 3s 27ms/step - loss: 0.1923 - accuracy: 0.9432\n",
      "Epoch 5/20\n",
      "108/108 [==============================] - 3s 28ms/step - loss: 0.1862 - accuracy: 0.9478\n",
      "Epoch 6/20\n",
      "108/108 [==============================] - 3s 30ms/step - loss: 0.1102 - accuracy: 0.9682\n",
      "Epoch 7/20\n",
      "108/108 [==============================] - 3s 32ms/step - loss: 0.1062 - accuracy: 0.9703\n",
      "Epoch 8/20\n",
      "108/108 [==============================] - 3s 32ms/step - loss: 0.0987 - accuracy: 0.9717\n",
      "Epoch 9/20\n",
      "108/108 [==============================] - 3s 32ms/step - loss: 0.0858 - accuracy: 0.9808\n",
      "Epoch 10/20\n",
      "108/108 [==============================] - 3s 31ms/step - loss: 0.0937 - accuracy: 0.9744\n",
      "Epoch 11/20\n",
      "108/108 [==============================] - 3s 31ms/step - loss: 0.1146 - accuracy: 0.9706\n",
      "Epoch 12/20\n",
      "108/108 [==============================] - 3s 27ms/step - loss: 0.0689 - accuracy: 0.9822\n",
      "Epoch 13/20\n",
      "108/108 [==============================] - 3s 29ms/step - loss: 0.0543 - accuracy: 0.9848\n",
      "Epoch 14/20\n",
      "108/108 [==============================] - 3s 30ms/step - loss: 0.0522 - accuracy: 0.9863\n",
      "Epoch 15/20\n",
      "108/108 [==============================] - 3s 29ms/step - loss: 0.0540 - accuracy: 0.9843\n",
      "Epoch 16/20\n",
      "108/108 [==============================] - 3s 27ms/step - loss: 0.0716 - accuracy: 0.9819\n",
      "Epoch 17/20\n",
      "108/108 [==============================] - 3s 28ms/step - loss: 0.0416 - accuracy: 0.9895\n",
      "Epoch 18/20\n",
      "108/108 [==============================] - 3s 26ms/step - loss: 0.0355 - accuracy: 0.9898\n",
      "Epoch 19/20\n",
      "108/108 [==============================] - 3s 26ms/step - loss: 0.0426 - accuracy: 0.9886\n",
      "Epoch 20/20\n",
      "108/108 [==============================] - 3s 26ms/step - loss: 0.0294 - accuracy: 0.9913\n"
     ]
    }
   ],
   "source": [
    "## Augment Data\n",
    "size = 64\n",
    "epochs = 20\n",
    "\n",
    "model = models.Sequential()\n",
    "model.add(layers.Conv2D(32, (3, 3), activation='relu', input_shape=(size, size, 1)))\n",
    "model.add(layers.MaxPooling2D((2, 2)))\n",
    "model.add(layers.Conv2D(64, (3, 3), activation='relu'))\n",
    "model.add(layers.MaxPooling2D((2, 2)))\n",
    "model.add(layers.Conv2D(64, (3, 3), activation='relu'))\n",
    "model.add(layers.Flatten())\n",
    "model.add(layers.Dense(64, activation='relu'))\n",
    "model.add(layers.Dense(len(language)))\n",
    "model.summary()\n",
    "\n",
    "import glob\n",
    "\n",
    "image_paths = sorted(glob.glob(\"*/*.png\"))\n",
    "train_labels = np.array(list(range(26)))\n",
    "classes = sorted(set([i[:i.index('/')] for i in image_paths]))\n",
    "classes_fmap = dict(zip(classes, train_labels))\n",
    "classes_imap = dict(zip(train_labels, classes))\n",
    "\n",
    "train_images = [bin(resize(read(x), size=(size, size)))//255 for x in image_paths]\n",
    "train_labels = np.stack([classes_fmap[i[:i.index('/')]] for i in image_paths])\n",
    "train_images = np.stack(train_images)\n",
    "\n",
    "# Augment images \n",
    "train_images_augmented, train_labels_augmented = augment(train_images, train_labels, depth=2)\n",
    "model.compile(optimizer='adam',\n",
    "              loss=tf.keras.losses.SparseCategoricalCrossentropy(from_logits=True),\n",
    "              metrics=['accuracy'])\n",
    "\n",
    "history = model.fit(train_images_augmented, train_labels_augmented, epochs=epochs)\n"
   ]
  },
  {
   "cell_type": "code",
   "execution_count": 442,
   "id": "19f53fbc-c2b0-4b46-9c4f-277bc64b495a",
   "metadata": {},
   "outputs": [],
   "source": [
    "\n",
    "def classify_nn_augmented(letter_img, inference_size=(size, size), _filter='.png'):\n",
    "    # Add dilation to inference\n",
    "    letter_imgs_augmented = [dilate(letter_img, it=i) for i in range(3)]\n",
    "    letter_imgs_augmented += [erode(letter_img, it=i) for i in range(3)]\n",
    "    \n",
    "    characters = []\n",
    "    for i, letter_img in enumerate(letter_imgs_augmented):\n",
    "        letter_img_res = bin(resize(letter_img, inference_size))//255\n",
    "        letter_img_tensor = np.stack([letter_img_res])\n",
    "\n",
    "        results = model.predict(letter_img_tensor)\n",
    "        char_idx = np.argmax(results)\n",
    "        character = classes_imap[char_idx][0]\n",
    "        characters.append({'char': character, 'dilate_it': i, 'result': np.max(results)})\n",
    "        \n",
    "    characters = pd.DataFrame(characters)\n",
    "    return characters['char'].mode().values[0]\n",
    "\n",
    "def classify_nn(letter_img, inference_size=(size, size), _filter='.png'):\n",
    "\n",
    "    letter_img_res = bin(resize(letter_img, inference_size))//255\n",
    "    letter_img_tensor = np.stack([letter_img_res])\n",
    "\n",
    "    results = model.predict(letter_img_tensor)\n",
    "    char_idx = np.argmax(results)\n",
    "    character = classes_imap[char_idx][0]\n",
    "    return character, results\n",
    "\n",
    "def ocr_nn(path, show_steps=False, return_dfs=False):\n",
    "    letters = pipeline(path, show_steps=show_steps)\n",
    "    if return_dfs==False:\n",
    "        return [classify_nn(l)[0] for l in letters]\n",
    "    else:\n",
    "        return [classify_nn(l) for l in letters]"
   ]
  },
  {
   "cell_type": "markdown",
   "id": "8d6fe5dd-93f6-4fa8-9dbb-8e9b599fa62e",
   "metadata": {},
   "source": [
    "#### Tests NN"
   ]
  },
  {
   "cell_type": "code",
   "execution_count": 443,
   "id": "10eb652c-fb1c-4078-909b-23bfda49eecb",
   "metadata": {},
   "outputs": [
    {
     "data": {
      "image/png": "[encoded data removed]",
      "text/plain": [
       "<Figure size 640x480 with 1 Axes>"
      ]
     },
     "metadata": {},
     "output_type": "display_data"
    }
   ],
   "source": [
    "show(255 * train_images[0])"
   ]
  },
  {
   "cell_type": "code",
   "execution_count": 444,
   "id": "c09de8d7-ffa1-4a48-88ad-8a5a3c459c0c",
   "metadata": {},
   "outputs": [
    {
     "data": {
      "image/png": "[encoded data removed]",
      "text/plain": [
       "<Figure size 640x480 with 1 Axes>"
      ]
     },
     "metadata": {},
     "output_type": "display_data"
    }
   ],
   "source": [
    "show(resize(255 * (pipeline('digital.png')[-2]//255), (size, size)))"
   ]
  },
  {
   "cell_type": "code",
   "execution_count": 445,
   "id": "ffa8d33f-a7cc-446d-a75b-68d9e1289801",
   "metadata": {},
   "outputs": [
    {
     "name": "stdout",
     "output_type": "stream",
     "text": [
      "1/1 [==============================] - 0s 13ms/step\n",
      "1/1 [==============================] - 0s 10ms/step\n",
      "1/1 [==============================] - 0s 9ms/step\n",
      "1/1 [==============================] - 0s 10ms/step\n",
      "TEST\n",
      "1/1 [==============================] - 0s 9ms/step\n",
      "1/1 [==============================] - 0s 10ms/step\n",
      "1/1 [==============================] - 0s 10ms/step\n",
      "OCR\n",
      "1/1 [==============================] - 0s 9ms/step\n",
      "1/1 [==============================] - 0s 9ms/step\n",
      "1/1 [==============================] - 0s 10ms/step\n",
      "1/1 [==============================] - 0s 10ms/step\n",
      "1/1 [==============================] - 0s 9ms/step\n",
      "1/1 [==============================] - 0s 9ms/step\n",
      "1/1 [==============================] - 0s 10ms/step\n",
      "1/1 [==============================] - 0s 10ms/step\n",
      "TACTICAL\n",
      "1/1 [==============================] - 0s 9ms/step\n",
      "1/1 [==============================] - 0s 9ms/step\n",
      "1/1 [==============================] - 0s 10ms/step\n",
      "1/1 [==============================] - 0s 10ms/step\n",
      "1/1 [==============================] - 0s 9ms/step\n",
      "1/1 [==============================] - 0s 9ms/step\n",
      "1/1 [==============================] - 0s 10ms/step\n",
      "DIGITAL\n",
      "1/1 [==============================] - 0s 10ms/step\n",
      "1/1 [==============================] - 0s 9ms/step\n",
      "1/1 [==============================] - 0s 9ms/step\n",
      "1/1 [==============================] - 0s 10ms/step\n",
      "TEAM\n",
      "1/1 [==============================] - 0s 9ms/step\n",
      "1/1 [==============================] - 0s 9ms/step\n",
      "1/1 [==============================] - 0s 10ms/step\n",
      "1/1 [==============================] - 0s 10ms/step\n",
      "1/1 [==============================] - 0s 9ms/step\n",
      "1/1 [==============================] - 0s 10ms/step\n",
      "1/1 [==============================] - 0s 10ms/step\n",
      "1/1 [==============================] - 0s 10ms/step\n",
      "1/1 [==============================] - 0s 9ms/step\n",
      "1/1 [==============================] - 0s 9ms/step\n",
      "PROCESSXNQ\n",
      "Accuracy: 0.9444444444444444\n"
     ]
    }
   ],
   "source": [
    "num_correct = 0\n",
    "num_total = 0\n",
    "\n",
    "for t in ['test.png', 'ocr.png', 'tactical.png', 'digital.png', 'team.png', 'processing.png']:\n",
    "    label = t[:t.index('.')].upper()\n",
    "    num_total += len(label)\n",
    "    \n",
    "    result = ''.join(ocr_nn(t))    \n",
    "    for i in range(len(label)):\n",
    "        if label[i] == result[i]:\n",
    "            num_correct+=1\n",
    "        \n",
    "    print(result)\n",
    "print('Accuracy:', num_correct/num_total)"
   ]
  },
  {
   "cell_type": "markdown",
   "id": "a4dbb43c-2b21-4a05-a62d-a6f29fc418fb",
   "metadata": {
    "tags": []
   },
   "source": [
    "### Tests"
   ]
  },
  {
   "cell_type": "code",
   "execution_count": 406,
   "id": "1b7a0951-6bb7-4f2c-be23-ec5272d36462",
   "metadata": {},
   "outputs": [
    {
     "name": "stdout",
     "output_type": "stream",
     "text": [
      "['T', 'F', 'S', 'T']\n",
      "['O', 'C', 'R']\n",
      "['T', 'A', 'C', 'T', 'T', 'C', 'A', 'L']\n",
      "['Q', 'T', 'C', 'T', 'T', 'A', 'L']\n",
      "['T', 'E', 'A', 'A']\n",
      "['P', 'X', 'O', 'C', 'C', 'S', 'S', 'X', 'X', 'A']\n",
      "Accuracy: 0.6666666666666666\n"
     ]
    }
   ],
   "source": [
    "num_correct = 0\n",
    "num_total = 0\n",
    "\n",
    "for t in ['test.png', 'ocr.png', 'tactical.png', 'digital.png', 'team.png', 'processing.png']:\n",
    "    label = t[:t.index('.')].upper()\n",
    "    num_total += len(label)\n",
    "    \n",
    "    result = ''.join(ocr(t))    \n",
    "    for i in range(len(label)):\n",
    "        if label[i] == result[i]:\n",
    "            num_correct+=1\n",
    "        \n",
    "    print(ocr(t))\n",
    "print('Accuracy:', num_correct/num_total)"
   ]
  },
  {
   "cell_type": "code",
   "execution_count": 378,
   "id": "c88e363b-e1c8-4449-8852-93479730f054",
   "metadata": {},
   "outputs": [
    {
     "data": {
      "text/plain": [
       "['T', 'F', 'S', 'T']"
      ]
     },
     "execution_count": 378,
     "metadata": {},
     "output_type": "execute_result"
    }
   ],
   "source": [
    "ocr('test.png')"
   ]
  },
  {
   "cell_type": "code",
   "execution_count": 379,
   "id": "915f276e-346f-45b4-b45e-66f210b0fe43",
   "metadata": {},
   "outputs": [
    {
     "data": {
      "text/plain": [
       "['T', 'A', 'C', 'T', 'T', 'C', 'A', 'L']"
      ]
     },
     "execution_count": 379,
     "metadata": {},
     "output_type": "execute_result"
    }
   ],
   "source": [
    "ocr('tactical.png', show_steps=False)"
   ]
  },
  {
   "cell_type": "code",
   "execution_count": 86,
   "id": "10487d47-e8e9-41ad-a517-a2ada886dc3d",
   "metadata": {},
   "outputs": [
    {
     "data": {
      "text/plain": [
       "['D', 'I', 'C', 'I', 'T', 'A', 'L']"
      ]
     },
     "execution_count": 86,
     "metadata": {},
     "output_type": "execute_result"
    }
   ],
   "source": [
    "ocr('digital.png', show_steps=False)"
   ]
  },
  {
   "cell_type": "code",
   "execution_count": 87,
   "id": "4091e482-3d94-4920-b36c-c7938fb9082a",
   "metadata": {},
   "outputs": [
    {
     "data": {
      "text/plain": [
       "['O', 'C', 'R']"
      ]
     },
     "execution_count": 87,
     "metadata": {},
     "output_type": "execute_result"
    }
   ],
   "source": [
    "ocr('ocr.png', show_steps=False)"
   ]
  },
  {
   "cell_type": "code",
   "execution_count": 88,
   "id": "aa94c185-83e8-4fa8-9522-43fad12d7887",
   "metadata": {},
   "outputs": [
    {
     "data": {
      "text/plain": [
       "['T', 'E', 'A', 'A']"
      ]
     },
     "execution_count": 88,
     "metadata": {},
     "output_type": "execute_result"
    }
   ],
   "source": [
    "ocr('team.png', show_steps=False)"
   ]
  },
  {
   "cell_type": "code",
   "execution_count": 89,
   "id": "c77dadc6-8777-42da-959d-37a62a9a5a35",
   "metadata": {},
   "outputs": [
    {
     "data": {
      "text/plain": [
       "['F', 'R', 'D', 'C', 'F', 'S', 'S', 'I', 'X', 'A']"
      ]
     },
     "execution_count": 89,
     "metadata": {},
     "output_type": "execute_result"
    }
   ],
   "source": [
    "ocr('processing.png', show_steps=False)"
   ]
  }
 ],
 "metadata": {
  "kernelspec": {
   "display_name": "Python 3 (ipykernel)",
   "language": "python",
   "name": "python3"
  },
  "language_info": {
   "codemirror_mode": {
    "name": "ipython",
    "version": 3
   },
   "file_extension": ".py",
   "mimetype": "text/x-python",
   "name": "python",
   "nbconvert_exporter": "python",
   "pygments_lexer": "ipython3",
   "version": "3.10.6"
  }
 },
 "nbformat": 4,
 "nbformat_minor": 5
}
