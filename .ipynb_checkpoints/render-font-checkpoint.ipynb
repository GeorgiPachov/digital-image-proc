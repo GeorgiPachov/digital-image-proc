{
 "cells": [
  {
   "cell_type": "code",
   "execution_count": 3,
   "id": "1df42e09-f1b7-49bb-82c4-847193707333",
   "metadata": {},
   "outputs": [
    {
     "name": "stdout",
     "output_type": "stream",
     "text": [
      "Collecting wand\n",
      "  Downloading Wand-0.6.10-py2.py3-none-any.whl (142 kB)\n",
      "\u001b[2K     \u001b[38;2;114;156;31m━━━━━━━━━━━━━━━━━━━━━━━━━━━━━━━━━━━━━━━\u001b[0m \u001b[32m142.8/142.8 kB\u001b[0m \u001b[31m3.2 MB/s\u001b[0m eta \u001b[36m0:00:00\u001b[0m MB/s\u001b[0m eta \u001b[36m0:00:01\u001b[0m\n",
      "\u001b[?25hInstalling collected packages: wand\n",
      "Successfully installed wand-0.6.10\n"
     ]
    }
   ],
   "source": [
    "! pip install wand"
   ]
  },
  {
   "cell_type": "code",
   "execution_count": 3,
   "id": "c42a71dd-f260-465e-8709-4a5ac7b839e2",
   "metadata": {},
   "outputs": [
    {
     "name": "stdout",
     "output_type": "stream",
     "text": [
      "Uninstalling /opt/homebrew/Cellar/imagemagick/7.1.0-51... (805 files, 30.8MB)\n",
      "\u001b[34m==>\u001b[0m \u001b[1mDownloading https://ghcr.io/v2/homebrew/core/imagemagick/6/manifests/6.9.12-\u001b[0m\n",
      "######################################################################## 100.0%\n",
      "\u001b[34m==>\u001b[0m \u001b[1mDownloading https://ghcr.io/v2/homebrew/core/imagemagick/6/blobs/sha256:3681\u001b[0m\n",
      "\u001b[34m==>\u001b[0m \u001b[1mDownloading from https://pkg-containers.githubusercontent.com/ghcr1/blobs/sh\u001b[0m\n",
      "######################################################################## 100.0%\n",
      "\u001b[34m==>\u001b[0m \u001b[1mPouring imagemagick@6--6.9.12-66.arm64_monterey.bottle.tar.gz\u001b[0m\n",
      "\u001b[34m==>\u001b[0m \u001b[1mCaveats\u001b[0m\n",
      "imagemagick@6 is keg-only, which means it was not symlinked into /opt/homebrew,\n",
      "because this is an alternate version of another formula.\n",
      "\n",
      "If you need to have imagemagick@6 first in your PATH, run:\n",
      "  echo 'export PATH=\"/opt/homebrew/opt/imagemagick@6/bin:$PATH\"' >> ~/.zshrc\n",
      "\n",
      "For compilers to find imagemagick@6 you may need to set:\n",
      "  export LDFLAGS=\"-L/opt/homebrew/opt/imagemagick@6/lib\"\n",
      "  export CPPFLAGS=\"-I/opt/homebrew/opt/imagemagick@6/include\"\n",
      "\n",
      "For pkg-config to find imagemagick@6 you may need to set:\n",
      "  export PKG_CONFIG_PATH=\"/opt/homebrew/opt/imagemagick@6/lib/pkgconfig\"\n",
      "\n",
      "\u001b[34m==>\u001b[0m \u001b[1mSummary\u001b[0m\n",
      "🍺  /opt/homebrew/Cellar/imagemagick@6/6.9.12-66: 767 files, 27.3MB\n",
      "\u001b[34m==>\u001b[0m \u001b[1mRunning `brew cleanup imagemagick@6`...\u001b[0m\n",
      "Disable this behaviour by setting HOMEBREW_NO_INSTALL_CLEANUP.\n",
      "Hide these hints with HOMEBREW_NO_ENV_HINTS (see `man brew`).\n",
      "\u001b[31mError:\u001b[0m No such keg: /opt/homebrew/Cellar/imagemagick\n",
      "Linking /opt/homebrew/Cellar/imagemagick@6/6.9.12-66... 76 symlinks created.\n",
      "\n",
      "If you need to have this software first in your PATH instead consider running:\n",
      "  echo 'export PATH=\"/opt/homebrew/opt/imagemagick@6/bin:$PATH\"' >> ~/.zshrc\n"
     ]
    }
   ],
   "source": [
    "! brew uninstall imagemagick\n",
    "! brew install imagemagick@6\n",
    "! brew unlink imagemagick\n",
    "! brew link imagemagick@6 --force\n",
    "! echo 'export MAGICK_HOME=\"/usr/local/opt/imagemagick@6/lib\"' >> ~/.bash_profile\n",
    "! echo 'export PATH=\"/usr/local/opt/imagemagick@6/bin:$PATH\"' >> ~/.bash_profile\n",
    "\n",
    "! source ~/.bash_profile"
   ]
  },
  {
   "cell_type": "code",
   "execution_count": null,
   "id": "60ccb8c1-2c79-4b1a-bdad-7d9309b27055",
   "metadata": {},
   "outputs": [],
   "source": [
    "! convert -list font"
   ]
  },
  {
   "cell_type": "code",
   "execution_count": 1768,
   "id": "03556180-1ae2-4974-a09c-b92260b69278",
   "metadata": {},
   "outputs": [],
   "source": [
    "import os\n",
    "import numpy as np\n",
    "import cv2\n",
    "from tqdm import tqdm\n",
    "from wand.color import Color\n",
    "from wand.image import Image\n",
    "from wand.drawing import Drawing\n",
    "from wand.compat import nested"
   ]
  },
  {
   "cell_type": "code",
   "execution_count": 1769,
   "id": "1876bdad-d6a1-4510-b3c6-c8c3f8bf3b49",
   "metadata": {},
   "outputs": [
    {
     "data": {
      "text/plain": [
       "'ABCDEFGHIJKLMNOPQRSTUVWXYZ'"
      ]
     },
     "execution_count": 1769,
     "metadata": {},
     "output_type": "execute_result"
    }
   ],
   "source": [
    "# Charatcters \n",
    "language = 'abcdefghijklmnopqrstuvwxyz'\n",
    "language_upper = language.upper()\n",
    "language += language_upper\n",
    "language += '0123456789'\n",
    "\n",
    "assert len(language) == 26 * 2 + 10 \n",
    "language = language_upper\n",
    "language"
   ]
  },
  {
   "cell_type": "code",
   "execution_count": 1733,
   "id": "5ecd375e-a338-4d4e-a601-532a0697fe54",
   "metadata": {},
   "outputs": [],
   "source": [
    "# Fonts\n",
    "handwritten_fonts = ['Herculanum', 'Annai MN', 'Bradley Hand', 'Brush Script MT', 'Chalkboard',\n",
    "             'Comic Sans MS', 'Luminary', 'Noteworthy', 'Papyrus', 'Party LET', 'Savoye LET', \n",
    "             'Sign Painter', 'Skia', 'Snell Roundhand', 'Times New Roman', 'Trattatello', 'Zapfino']\n",
    "typed_fonts = ['Arial', 'Arial Black', 'Arial Narrow', 'Arial Rounded MT Bold', 'Copperplate', 'Courier New', 'Helvetica',\n",
    "              'Impact', 'Lucinda Grande', 'Microsoft Sans Serif', 'Tahoma', 'Verdana', 'Menlo', 'Didot', 'Copperplate', 'Avenir', 'Futura']\n",
    "\n",
    "# fonts = handwritten_fonts + typed_fonts \n",
    "fonts = ['Copperplate']"
   ]
  },
  {
   "cell_type": "code",
   "execution_count": 1770,
   "id": "adc5894d-e450-40e5-84a8-5743725bb216",
   "metadata": {},
   "outputs": [],
   "source": [
    "# resolution\n",
    "width=200\n",
    "height=200\n",
    "font_size=100\n",
    "background = Color('white')\n",
    "foreground=Color('rgb(0, 0, 0)')"
   ]
  },
  {
   "cell_type": "code",
   "execution_count": 1771,
   "id": "72195ecd-aa71-4bd8-a415-c87cc5e8a57b",
   "metadata": {},
   "outputs": [
    {
     "data": {
      "text/plain": [
       "'ABCDEFGHIJKLMNOPQRSTUVWXYZ'"
      ]
     },
     "execution_count": 1771,
     "metadata": {},
     "output_type": "execute_result"
    }
   ],
   "source": [
    "language"
   ]
  },
  {
   "cell_type": "code",
   "execution_count": 1772,
   "id": "c205e0c8-330e-4456-8af0-ddbb03829d12",
   "metadata": {},
   "outputs": [
    {
     "name": "stderr",
     "output_type": "stream",
     "text": [
      "100%|███████████████████████████████████████████████████████████████████████████████████████████████████████████████████████████████████████████████████████████████████████████████████████████████████████████████████████████████████████████| 1/1 [00:00<00:00,  6.98it/s]\n"
     ]
    }
   ],
   "source": [
    "for f in tqdm(fonts):\n",
    "    for c in language:\n",
    "        if c in language_upper:\n",
    "            if not os.path.exists(f'{c}{c}'):\n",
    "                os.mkdir(f'{c}{c}')\n",
    "            filename = os.path.join(f'{c}{c}', f'{f}.png')\n",
    "        else:\n",
    "            if not os.path.exists(c):\n",
    "                os.mkdir(f'{c}')\n",
    "            filename = os.path.join(f'{c}', f'{f}.png')\n",
    "\n",
    "        with Drawing() as draw:\n",
    "            with Image(width=width, height=height, background=background) as img:\n",
    "                draw.font_family = f\n",
    "                draw.font_size = font_size\n",
    "                draw.push()\n",
    "                draw.fill_color = foreground\n",
    "                draw.text(0,int(img.height/2), c)\n",
    "                draw.pop()\n",
    "                draw(img)\n",
    "                if os.path.exists(filename):\n",
    "                    os.unlink(filename)\n",
    "                img.save(filename='tmp.png')\n",
    "\n",
    "                img = cv2.imread('tmp.png')\n",
    "            \n",
    "                os.unlink('tmp.png')\n",
    "                ys, xs = np.where(np.all(img == (0, 0, 0), axis=-1))\n",
    "\n",
    "                cropped = img[min(ys):max(ys)+1, min(xs):max(xs)+1]\n",
    "                cv2.imwrite(filename, cropped)\n",
    "            "
   ]
  },
  {
   "cell_type": "markdown",
   "id": "97b447e5-99ab-4fa0-95be-573f3958db17",
   "metadata": {},
   "source": [
    "#### Inference"
   ]
  },
  {
   "cell_type": "markdown",
   "id": "bf1b2269-bf65-4e2a-b3ab-5e8d77948f85",
   "metadata": {},
   "source": [
    "##### Functions"
   ]
  },
  {
   "cell_type": "code",
   "execution_count": 1980,
   "id": "49da5048-ea5c-4cf6-917e-0b23d07adc5b",
   "metadata": {},
   "outputs": [],
   "source": [
    "import matplotlib.pyplot as plt\n",
    "def show(*img):\n",
    "    for i in img:\n",
    "        plt.imshow(i, cmap='gray')\n",
    "        plt.show()\n",
    "\n",
    "# Read\n",
    "def read(path):\n",
    "    return cv2.imread(path, cv2.IMREAD_GRAYSCALE)\n",
    "\n",
    "def bin(img, bins=10, min_diff=10):\n",
    "    count, division = np.histogram(img, bins)\n",
    "    diff_series = pd.Series(count).diff()\n",
    "    \n",
    "    first_histogram_reduction_index = diff_series[(diff_series < 0) & (np.abs(diff_series) > min_diff)].index[0]\n",
    "    threshold = division[first_histogram_reduction_index+1]\n",
    "        \n",
    "    _, img = cv2.threshold(img,threshold,255,cv2.THRESH_BINARY)\n",
    "    return img\n",
    "\n",
    "def bin2(img):\n",
    "    return cv2.threshold(img, 0, 255, cv2.THRESH_BINARY +cv2.THRESH_OTSU)[1]\n",
    "\n",
    "def neg(img):\n",
    "    return 255 - img\n",
    "\n",
    "def redraw_contours(img): \n",
    "    # Find contours and redraw\n",
    "    contours, hierarchy = cv2.findContours(image=img, mode=cv2.RETR_TREE, method=cv2.CHAIN_APPROX_NONE)\n",
    "                                      \n",
    "    # draw contours on the original image\n",
    "    image_copy = img.copy()\n",
    "    cv2.drawContours(image=image_copy, contours=contours, contourIdx=-1, color=(255, 255, 255), thickness=16, lineType=cv2.LINE_AA)\n",
    "    return image_copy\n",
    "\n",
    "def components(img, min_area=1000):\n",
    "    # Connected components\n",
    "    output = cv2.connectedComponentsWithStats(img, 4, cv2.CV_32S)\n",
    "    num_letters = output[0]\n",
    "    letters = output[1]\n",
    "    stats = output[2]\n",
    "    centroids = output[3]\n",
    "\n",
    "    letter_imgs = []\n",
    "    ## Sort letters + area check\n",
    "    image_copy = img.copy()\n",
    "    for l in range(1, num_letters):\n",
    "        minx = stats[l, cv2.CC_STAT_LEFT]\n",
    "        maxx = stats[l, cv2.CC_STAT_WIDTH] + minx\n",
    "        miny = stats[l, cv2.CC_STAT_TOP] \n",
    "        maxy = stats[l, cv2.CC_STAT_HEIGHT] + miny\n",
    "        area = stats[l, cv2.CC_STAT_AREA]\n",
    "        if area < min_area:\n",
    "            continue\n",
    "\n",
    "        cropped_img = img[miny:maxy+1, minx: maxx+1].copy()\n",
    "        letter_imgs.append((cropped_img, minx))\n",
    "        cv2.rectangle(image_copy,(minx, miny), (maxx, maxy) ,(255, 255, 255), 3)\n",
    "\n",
    "    sorted_img_list = sorted(letter_imgs, \n",
    "       key=lambda x: x[1])\n",
    "    return [s[0] for s in sorted_img_list]\n",
    "\n",
    "def resize(img, size=(100, 100)):\n",
    "    return cv2.resize(img, size, interpolation=cv2.INTER_NEAREST)"
   ]
  },
  {
   "cell_type": "code",
   "execution_count": 1987,
   "id": "e04b95dd-1f38-4c1b-b45b-edeb02250811",
   "metadata": {},
   "outputs": [],
   "source": [
    "def pipeline(x, show_steps=False):\n",
    "    img = read(x)\n",
    "    img_bin = bin(img)\n",
    "    img_bin_neg = neg(img_bin)\n",
    "    redraw = redraw_contours(img_bin_neg)\n",
    "    letter_boxes = components(redraw)\n",
    "    letter_boxes = [neg(l) for l in letter_boxes]\n",
    "    \n",
    "    if show_steps:\n",
    "        show(img)\n",
    "        show(img_bin)\n",
    "        show(img_bin_neg)\n",
    "        show(redraw)\n",
    "        for l in letter_boxes:\n",
    "            show(l)\n",
    "            \n",
    "    return letter_boxes"
   ]
  },
  {
   "cell_type": "code",
   "execution_count": 1988,
   "id": "b19f8cb4-de93-42de-9edb-d6df7c12825b",
   "metadata": {},
   "outputs": [],
   "source": [
    "def classify(letter_img, inference_size=(500, 500), _filter='.png'):\n",
    "    results = []\n",
    "    for c in language:\n",
    "        if c in language_upper:\n",
    "            fld = f'{c}{c}'\n",
    "        else:\n",
    "            fld = f'{c}'\n",
    "            \n",
    "        files = [x for x in os.listdir(fld) if x.endswith(_filter)]\n",
    "        letter_img_r = bin(cv2.resize(letter_img, inference_size, interpolation=cv2.INTER_NEAREST))\n",
    "        for f in files: \n",
    "            ## TODO Check and possibly binarize all when reading\n",
    "            path = os.path.join(fld, f)\n",
    "            img_f = bin(cv2.imread(path, cv2.IMREAD_GRAYSCALE))\n",
    "            img_fr = bin(cv2.resize(img_f, inference_size, interpolation=cv2.INTER_NEAREST))\n",
    "            \n",
    "            iou = (letter_img_r//255 & img_fr//255).sum() / (letter_img_r//255 | img_fr//255).sum()\n",
    "            results.append( {\n",
    "                'char': c,\n",
    "                'font': f,\n",
    "                'iou': iou\n",
    "            })\n",
    "    results = pd.DataFrame(results)\n",
    "    \n",
    "    # selection\n",
    "    g = results.groupby('char')['iou'].mean()\n",
    "    character = g[g == g.max()].index[0]\n",
    "    return character, results"
   ]
  },
  {
   "cell_type": "code",
   "execution_count": 1989,
   "id": "52177da4-17ec-4559-8921-69bda10b0724",
   "metadata": {},
   "outputs": [],
   "source": [
    "def ocr(path, show_steps=False, return_dfs=False):\n",
    "    letters = pipeline(path, show_steps=show_steps)\n",
    "    if return_dfs==False:\n",
    "        return [classify(l)[0] for l in letters]\n",
    "    else:\n",
    "        return [classify(l) for l in letters]"
   ]
  },
  {
   "cell_type": "markdown",
   "id": "434a6ac3-a366-491c-807c-c79341f64630",
   "metadata": {},
   "source": [
    "#### Tests"
   ]
  },
  {
   "cell_type": "code",
   "execution_count": 1991,
   "id": "c88e363b-e1c8-4449-8852-93479730f054",
   "metadata": {},
   "outputs": [
    {
     "data": {
      "text/plain": [
       "['T', 'E', 'S', 'T']"
      ]
     },
     "execution_count": 1991,
     "metadata": {},
     "output_type": "execute_result"
    }
   ],
   "source": [
    "ocr('test.png')"
   ]
  },
  {
   "cell_type": "code",
   "execution_count": 1996,
   "id": "915f276e-346f-45b4-b45e-66f210b0fe43",
   "metadata": {},
   "outputs": [
    {
     "data": {
      "text/plain": [
       "['T', 'A', 'C', 'T', 'I', 'C', 'A', 'L']"
      ]
     },
     "execution_count": 1996,
     "metadata": {},
     "output_type": "execute_result"
    }
   ],
   "source": [
    "ocr('tactical.png')"
   ]
  },
  {
   "cell_type": "code",
   "execution_count": 1997,
   "id": "10487d47-e8e9-41ad-a517-a2ada886dc3d",
   "metadata": {},
   "outputs": [
    {
     "data": {
      "text/plain": [
       "['L', 'I', 'G', 'I', 'T', 'A', 'L']"
      ]
     },
     "execution_count": 1997,
     "metadata": {},
     "output_type": "execute_result"
    }
   ],
   "source": [
    "ocr('digital.png')"
   ]
  },
  {
   "cell_type": "code",
   "execution_count": 1998,
   "id": "4091e482-3d94-4920-b36c-c7938fb9082a",
   "metadata": {},
   "outputs": [
    {
     "data": {
      "text/plain": [
       "['O', 'C', 'F']"
      ]
     },
     "execution_count": 1998,
     "metadata": {},
     "output_type": "execute_result"
    }
   ],
   "source": [
    "ocr('ocr.png')"
   ]
  },
  {
   "cell_type": "code",
   "execution_count": 1999,
   "id": "aa94c185-83e8-4fa8-9522-43fad12d7887",
   "metadata": {},
   "outputs": [
    {
     "data": {
      "text/plain": [
       "['T', 'E', 'A', 'Y']"
      ]
     },
     "execution_count": 1999,
     "metadata": {},
     "output_type": "execute_result"
    }
   ],
   "source": [
    "ocr('team.png')"
   ]
  },
  {
   "cell_type": "code",
   "execution_count": null,
   "id": "a2135790-b66c-4cbb-bcd9-3db857e3f755",
   "metadata": {},
   "outputs": [],
   "source": []
  }
 ],
 "metadata": {
  "kernelspec": {
   "display_name": "Python 3 (ipykernel)",
   "language": "python",
   "name": "python3"
  },
  "language_info": {
   "codemirror_mode": {
    "name": "ipython",
    "version": 3
   },
   "file_extension": ".py",
   "mimetype": "text/x-python",
   "name": "python",
   "nbconvert_exporter": "python",
   "pygments_lexer": "ipython3",
   "version": "3.10.6"
  }
 },
 "nbformat": 4,
 "nbformat_minor": 5
}
